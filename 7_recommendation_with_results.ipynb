{
 "cells": [
  {
   "cell_type": "code",
   "execution_count": 1,
   "metadata": {},
   "outputs": [
    {
     "data": {
      "text/plain": [
       "'/Users/wenzhiwang/Desktop/2018/DataScience/Capstone/src'"
      ]
     },
     "execution_count": 1,
     "metadata": {},
     "output_type": "execute_result"
    }
   ],
   "source": [
    "import pandas as pd\n",
    "\n",
    "import numpy as np\n",
    "\n",
    "import os\n",
    "\n",
    "os.getcwd()\n",
    "\n"
   ]
  },
  {
   "cell_type": "code",
   "execution_count": 2,
   "metadata": {},
   "outputs": [
    {
     "name": "stderr",
     "output_type": "stream",
     "text": [
      "/Applications/anaconda2/lib/python2.7/site-packages/IPython/core/interactiveshell.py:2718: DtypeWarning: Columns (2) have mixed types. Specify dtype option on import or set low_memory=False.\n",
      "  interactivity=interactivity, compiler=compiler, result=result)\n"
     ]
    },
    {
     "data": {
      "text/html": [
       "<div>\n",
       "<style>\n",
       "    .dataframe thead tr:only-child th {\n",
       "        text-align: right;\n",
       "    }\n",
       "\n",
       "    .dataframe thead th {\n",
       "        text-align: left;\n",
       "    }\n",
       "\n",
       "    .dataframe tbody tr th {\n",
       "        vertical-align: top;\n",
       "    }\n",
       "</style>\n",
       "<table border=\"1\" class=\"dataframe\">\n",
       "  <thead>\n",
       "    <tr style=\"text-align: right;\">\n",
       "      <th></th>\n",
       "      <th>uid</th>\n",
       "      <th>device</th>\n",
       "      <th>song_id</th>\n",
       "      <th>date</th>\n",
       "      <th>play_time</th>\n",
       "      <th>song_length</th>\n",
       "    </tr>\n",
       "  </thead>\n",
       "  <tbody>\n",
       "    <tr>\n",
       "      <th>0</th>\n",
       "      <td>168551247</td>\n",
       "      <td>ar</td>\n",
       "      <td>1.18814e+07</td>\n",
       "      <td>2017-03-30</td>\n",
       "      <td>78</td>\n",
       "      <td>149.0</td>\n",
       "    </tr>\n",
       "    <tr>\n",
       "      <th>1</th>\n",
       "      <td>168549788</td>\n",
       "      <td>ip</td>\n",
       "      <td>295469</td>\n",
       "      <td>2017-03-30</td>\n",
       "      <td>16</td>\n",
       "      <td>242.0</td>\n",
       "    </tr>\n",
       "    <tr>\n",
       "      <th>2</th>\n",
       "      <td>168550496</td>\n",
       "      <td>ar</td>\n",
       "      <td>1.24954e+07</td>\n",
       "      <td>2017-03-30</td>\n",
       "      <td>369</td>\n",
       "      <td>2747.0</td>\n",
       "    </tr>\n",
       "    <tr>\n",
       "      <th>3</th>\n",
       "      <td>168544926</td>\n",
       "      <td>ar</td>\n",
       "      <td>4.40379e+06</td>\n",
       "      <td>2017-03-30</td>\n",
       "      <td>6</td>\n",
       "      <td>28.0</td>\n",
       "    </tr>\n",
       "    <tr>\n",
       "      <th>4</th>\n",
       "      <td>168532580</td>\n",
       "      <td>ar</td>\n",
       "      <td>2.17629e+07</td>\n",
       "      <td>2017-03-30</td>\n",
       "      <td>67</td>\n",
       "      <td>137.0</td>\n",
       "    </tr>\n",
       "  </tbody>\n",
       "</table>\n",
       "</div>"
      ],
      "text/plain": [
       "         uid device      song_id        date play_time  song_length\n",
       "0  168551247     ar  1.18814e+07  2017-03-30        78        149.0\n",
       "1  168549788     ip       295469  2017-03-30        16        242.0\n",
       "2  168550496     ar  1.24954e+07  2017-03-30       369       2747.0\n",
       "3  168544926     ar  4.40379e+06  2017-03-30         6         28.0\n",
       "4  168532580     ar  2.17629e+07  2017-03-30        67        137.0"
      ]
     },
     "execution_count": 2,
     "metadata": {},
     "output_type": "execute_result"
    }
   ],
   "source": [
    "# read play, download, search\n",
    "df_play = pd.read_csv('/Users/wenzhiwang/Desktop/2018/DataScience/Capstone/data/play_ds.csv')\n",
    "\n",
    "df_play.head()\n",
    "\n"
   ]
  },
  {
   "cell_type": "code",
   "execution_count": null,
   "metadata": {},
   "outputs": [],
   "source": []
  },
  {
   "cell_type": "code",
   "execution_count": 3,
   "metadata": {
    "collapsed": true
   },
   "outputs": [],
   "source": [
    "df_download = pd.read_csv('/Users/wenzhiwang/Desktop/2018/DataScience/Capstone/data/down_ds.csv')\n",
    "\n",
    "# initialization download frequency as 1\n",
    "df_download['download'] = 1"
   ]
  },
  {
   "cell_type": "code",
   "execution_count": 4,
   "metadata": {
    "collapsed": true
   },
   "outputs": [],
   "source": [
    "df_download.drop(['device','date'],axis = 1, inplace = True)\n",
    "\n",
    "# groupby download at uid and song_id level\n",
    "df_down = df_download.groupby(['uid','song_id']).agg('sum')\n",
    "\n",
    "df_down.reset_index(inplace = True)\n",
    "\n",
    "# filter out records with negative play time\n",
    "\n",
    "df_play['play_time'] = pd.to_numeric(df_play.play_time, errors='coerce')\n",
    "\n",
    "df_play = df_play[ (df_play.play_time >= 0) & ( df_play.song_length >0) ]\n",
    "\n",
    "df_play.dropna(inplace = True)\n",
    "\n",
    "df_play.drop(['device','date'],axis = 1,inplace = True)\n",
    "\n",
    "df_play_u_song = df_play.groupby(['uid','song_id']).agg('sum')\n",
    "\n",
    "df_play_u_song.reset_index(inplace = True)\n",
    "\n",
    "# compute fraction of play time as total song length\n",
    "df_play_u_song['play'] = df_play_u_song.play_time/df_play_u_song.song_length\n",
    "# delete crazy record\n",
    "df_play_u_song = df_play_u_song[df_play_u_song.play <= 1]\n",
    "\n",
    "\n",
    "# Merge download and play dataset\n",
    "df = pd.merge(df_play_u_song,df_down, on = ['uid','song_id'], how = 'outer')\n",
    "\n",
    "df.drop(['play_time','song_length'], axis = 1, inplace = True)\n",
    "\n",
    "df.head()\n",
    "\n",
    "# Compute implicit review score based on download behaviour and play behaviour\n",
    "# The more downloads, the higher the score\n",
    "# The more play, the higher the score\n",
    "\n",
    "df['score'] = 0\n",
    "\n",
    "\n",
    "def Rating(df):\n",
    "    \n",
    "    if df[0] >= 5:\n",
    "        return 7\n",
    "    \n",
    "    elif df[0] < 5 and df[0] >= 1 and df[1] > 0 :\n",
    "        return 6\n",
    "    \n",
    "    elif df[0] < 5 and df[0] >= 1 and np.isnan(df[1]):\n",
    "        return 5\n",
    "    \n",
    "    elif np.isnan(df[0]) and df[1] >= 0.8:\n",
    "        return 4\n",
    "    \n",
    "    elif np.isnan(df[0]) and df[1] >= 0.6 and df[1] < 0.8 :\n",
    "        return 3\n",
    "    \n",
    "    elif np.isnan(df[0]) and df[1] >= 0.3 and df[1] < 0.6 :\n",
    "        return 2\n",
    "    \n",
    "    else:\n",
    "        return 1    \n",
    "# rename download and play to ger around of unicode issues\n",
    "df.rename(columns = {'download':0, 'play': 1}, inplace = True)\n",
    "\n"
   ]
  },
  {
   "cell_type": "code",
   "execution_count": 5,
   "metadata": {
    "collapsed": true
   },
   "outputs": [],
   "source": [
    "df['score'] = df[[0,1]].apply(Rating,axis = 1)\n"
   ]
  },
  {
   "cell_type": "code",
   "execution_count": 6,
   "metadata": {
    "collapsed": true
   },
   "outputs": [],
   "source": [
    "df.drop([0,1], axis = 1, inplace = True)"
   ]
  },
  {
   "cell_type": "code",
   "execution_count": 7,
   "metadata": {},
   "outputs": [
    {
     "data": {
      "text/html": [
       "<div>\n",
       "<style>\n",
       "    .dataframe thead tr:only-child th {\n",
       "        text-align: right;\n",
       "    }\n",
       "\n",
       "    .dataframe thead th {\n",
       "        text-align: left;\n",
       "    }\n",
       "\n",
       "    .dataframe tbody tr th {\n",
       "        vertical-align: top;\n",
       "    }\n",
       "</style>\n",
       "<table border=\"1\" class=\"dataframe\">\n",
       "  <thead>\n",
       "    <tr style=\"text-align: right;\">\n",
       "      <th></th>\n",
       "      <th>uid</th>\n",
       "      <th>song_id</th>\n",
       "      <th>score</th>\n",
       "    </tr>\n",
       "  </thead>\n",
       "  <tbody>\n",
       "    <tr>\n",
       "      <th>0</th>\n",
       "      <td>250691</td>\n",
       "      <td>5.83485e+06</td>\n",
       "      <td>3</td>\n",
       "    </tr>\n",
       "    <tr>\n",
       "      <th>1</th>\n",
       "      <td>250691</td>\n",
       "      <td>6.95632e+06</td>\n",
       "      <td>4</td>\n",
       "    </tr>\n",
       "    <tr>\n",
       "      <th>2</th>\n",
       "      <td>250691</td>\n",
       "      <td>7.08174e+06</td>\n",
       "      <td>4</td>\n",
       "    </tr>\n",
       "    <tr>\n",
       "      <th>3</th>\n",
       "      <td>250691</td>\n",
       "      <td>9.86321e+06</td>\n",
       "      <td>4</td>\n",
       "    </tr>\n",
       "    <tr>\n",
       "      <th>4</th>\n",
       "      <td>250691</td>\n",
       "      <td>9.94339e+06</td>\n",
       "      <td>4</td>\n",
       "    </tr>\n",
       "  </tbody>\n",
       "</table>\n",
       "</div>"
      ],
      "text/plain": [
       "      uid      song_id  score\n",
       "0  250691  5.83485e+06      3\n",
       "1  250691  6.95632e+06      4\n",
       "2  250691  7.08174e+06      4\n",
       "3  250691  9.86321e+06      4\n",
       "4  250691  9.94339e+06      4"
      ]
     },
     "execution_count": 7,
     "metadata": {},
     "output_type": "execute_result"
    }
   ],
   "source": [
    "df.head()"
   ]
  },
  {
   "cell_type": "code",
   "execution_count": 8,
   "metadata": {
    "collapsed": true
   },
   "outputs": [],
   "source": [
    "## downsample the whole dataset\n",
    "\n",
    "df_final = df[np.random.random(df.shape) < 0.001]\n",
    "\n",
    "df_final.head()\n",
    "\n",
    "# construct utility matrix\n",
    "\n",
    "df_utility = pd.pivot_table(data=df_final, \n",
    "                            values='score', \n",
    "                            index='uid', \n",
    "                            columns='song_id', \n",
    "                            fill_value=0)"
   ]
  },
  {
   "cell_type": "code",
   "execution_count": 9,
   "metadata": {},
   "outputs": [
    {
     "data": {
      "text/html": [
       "<div>\n",
       "<style>\n",
       "    .dataframe thead tr:only-child th {\n",
       "        text-align: right;\n",
       "    }\n",
       "\n",
       "    .dataframe thead th {\n",
       "        text-align: left;\n",
       "    }\n",
       "\n",
       "    .dataframe tbody tr th {\n",
       "        vertical-align: top;\n",
       "    }\n",
       "</style>\n",
       "<table border=\"1\" class=\"dataframe\">\n",
       "  <thead>\n",
       "    <tr style=\"text-align: right;\">\n",
       "      <th>song_id</th>\n",
       "      <th>0.0</th>\n",
       "      <th>5252.0</th>\n",
       "      <th>54279.0</th>\n",
       "      <th>54394.0</th>\n",
       "      <th>54588.0</th>\n",
       "      <th>54751.0</th>\n",
       "      <th>54916.0</th>\n",
       "      <th>54993.0</th>\n",
       "      <th>55219.0</th>\n",
       "      <th>55510.0</th>\n",
       "      <th>...</th>\n",
       "      <th>99590</th>\n",
       "      <th>9961549</th>\n",
       "      <th>9962546</th>\n",
       "      <th>996642</th>\n",
       "      <th>996649</th>\n",
       "      <th>99703</th>\n",
       "      <th>99747</th>\n",
       "      <th>997703</th>\n",
       "      <th>998097</th>\n",
       "      <th>999020</th>\n",
       "    </tr>\n",
       "    <tr>\n",
       "      <th>uid</th>\n",
       "      <th></th>\n",
       "      <th></th>\n",
       "      <th></th>\n",
       "      <th></th>\n",
       "      <th></th>\n",
       "      <th></th>\n",
       "      <th></th>\n",
       "      <th></th>\n",
       "      <th></th>\n",
       "      <th></th>\n",
       "      <th></th>\n",
       "      <th></th>\n",
       "      <th></th>\n",
       "      <th></th>\n",
       "      <th></th>\n",
       "      <th></th>\n",
       "      <th></th>\n",
       "      <th></th>\n",
       "      <th></th>\n",
       "      <th></th>\n",
       "      <th></th>\n",
       "    </tr>\n",
       "  </thead>\n",
       "  <tbody>\n",
       "    <tr>\n",
       "      <th>2446575</th>\n",
       "      <td>0</td>\n",
       "      <td>0</td>\n",
       "      <td>0</td>\n",
       "      <td>0</td>\n",
       "      <td>0</td>\n",
       "      <td>0</td>\n",
       "      <td>0</td>\n",
       "      <td>0</td>\n",
       "      <td>0</td>\n",
       "      <td>0</td>\n",
       "      <td>...</td>\n",
       "      <td>0</td>\n",
       "      <td>0</td>\n",
       "      <td>0</td>\n",
       "      <td>0</td>\n",
       "      <td>0</td>\n",
       "      <td>0</td>\n",
       "      <td>0</td>\n",
       "      <td>0</td>\n",
       "      <td>0</td>\n",
       "      <td>0</td>\n",
       "    </tr>\n",
       "    <tr>\n",
       "      <th>3152758</th>\n",
       "      <td>0</td>\n",
       "      <td>0</td>\n",
       "      <td>0</td>\n",
       "      <td>0</td>\n",
       "      <td>0</td>\n",
       "      <td>0</td>\n",
       "      <td>0</td>\n",
       "      <td>0</td>\n",
       "      <td>0</td>\n",
       "      <td>0</td>\n",
       "      <td>...</td>\n",
       "      <td>0</td>\n",
       "      <td>0</td>\n",
       "      <td>0</td>\n",
       "      <td>0</td>\n",
       "      <td>0</td>\n",
       "      <td>0</td>\n",
       "      <td>0</td>\n",
       "      <td>0</td>\n",
       "      <td>0</td>\n",
       "      <td>0</td>\n",
       "    </tr>\n",
       "    <tr>\n",
       "      <th>6653266</th>\n",
       "      <td>0</td>\n",
       "      <td>0</td>\n",
       "      <td>0</td>\n",
       "      <td>0</td>\n",
       "      <td>0</td>\n",
       "      <td>0</td>\n",
       "      <td>0</td>\n",
       "      <td>0</td>\n",
       "      <td>0</td>\n",
       "      <td>0</td>\n",
       "      <td>...</td>\n",
       "      <td>0</td>\n",
       "      <td>0</td>\n",
       "      <td>0</td>\n",
       "      <td>0</td>\n",
       "      <td>0</td>\n",
       "      <td>0</td>\n",
       "      <td>0</td>\n",
       "      <td>0</td>\n",
       "      <td>0</td>\n",
       "      <td>0</td>\n",
       "    </tr>\n",
       "    <tr>\n",
       "      <th>10126063</th>\n",
       "      <td>0</td>\n",
       "      <td>0</td>\n",
       "      <td>0</td>\n",
       "      <td>0</td>\n",
       "      <td>0</td>\n",
       "      <td>0</td>\n",
       "      <td>0</td>\n",
       "      <td>0</td>\n",
       "      <td>0</td>\n",
       "      <td>0</td>\n",
       "      <td>...</td>\n",
       "      <td>0</td>\n",
       "      <td>0</td>\n",
       "      <td>0</td>\n",
       "      <td>0</td>\n",
       "      <td>0</td>\n",
       "      <td>0</td>\n",
       "      <td>0</td>\n",
       "      <td>0</td>\n",
       "      <td>0</td>\n",
       "      <td>0</td>\n",
       "    </tr>\n",
       "    <tr>\n",
       "      <th>11038021</th>\n",
       "      <td>0</td>\n",
       "      <td>0</td>\n",
       "      <td>0</td>\n",
       "      <td>0</td>\n",
       "      <td>0</td>\n",
       "      <td>0</td>\n",
       "      <td>0</td>\n",
       "      <td>0</td>\n",
       "      <td>0</td>\n",
       "      <td>0</td>\n",
       "      <td>...</td>\n",
       "      <td>0</td>\n",
       "      <td>0</td>\n",
       "      <td>0</td>\n",
       "      <td>0</td>\n",
       "      <td>0</td>\n",
       "      <td>0</td>\n",
       "      <td>0</td>\n",
       "      <td>0</td>\n",
       "      <td>0</td>\n",
       "      <td>0</td>\n",
       "    </tr>\n",
       "  </tbody>\n",
       "</table>\n",
       "<p>5 rows × 8817 columns</p>\n",
       "</div>"
      ],
      "text/plain": [
       "song_id   0.0  5252.0  54279.0  54394.0  54588.0  54751.0  54916.0  54993.0  \\\n",
       "uid                                                                           \n",
       "2446575     0       0        0        0        0        0        0        0   \n",
       "3152758     0       0        0        0        0        0        0        0   \n",
       "6653266     0       0        0        0        0        0        0        0   \n",
       "10126063    0       0        0        0        0        0        0        0   \n",
       "11038021    0       0        0        0        0        0        0        0   \n",
       "\n",
       "song_id   55219.0  55510.0   ...    99590  9961549  9962546  996642  996649  \\\n",
       "uid                          ...                                              \n",
       "2446575         0        0   ...        0        0        0       0       0   \n",
       "3152758         0        0   ...        0        0        0       0       0   \n",
       "6653266         0        0   ...        0        0        0       0       0   \n",
       "10126063        0        0   ...        0        0        0       0       0   \n",
       "11038021        0        0   ...        0        0        0       0       0   \n",
       "\n",
       "song_id   99703  99747  997703  998097  999020  \n",
       "uid                                             \n",
       "2446575       0      0       0       0       0  \n",
       "3152758       0      0       0       0       0  \n",
       "6653266       0      0       0       0       0  \n",
       "10126063      0      0       0       0       0  \n",
       "11038021      0      0       0       0       0  \n",
       "\n",
       "[5 rows x 8817 columns]"
      ]
     },
     "execution_count": 9,
     "metadata": {},
     "output_type": "execute_result"
    }
   ],
   "source": [
    "df_utility.head()"
   ]
  },
  {
   "cell_type": "code",
   "execution_count": 10,
   "metadata": {
    "collapsed": true
   },
   "outputs": [],
   "source": [
    "from sklearn.metrics.pairwise import cosine_similarity\n",
    "from time import time\n",
    "\n",
    "# Item-Item Similarity Matrix\n",
    "item_sim_mat = cosine_similarity(df_utility.T)\n",
    "\n",
    "least_to_most_sim_indexes = np.argsort(item_sim_mat, axis=1)\n",
    "\n",
    "# Neighborhoods\n",
    "neighborhood_size = 75\n",
    "neighborhoods = least_to_most_sim_indexes[:, -neighborhood_size:]\n",
    "\n",
    "# Let's pick a lucky user\n",
    "user_id = df_utility.index[100]\n",
    "\n",
    "n_users = df_utility.shape[0]\n",
    "n_items = df_utility.shape[1]\n",
    "\n",
    "start_time = time()\n",
    "\n",
    "items_rated_by_this_user = df_utility.loc[user_id].nonzero()[0]\n",
    "\n"
   ]
  },
  {
   "cell_type": "code",
   "execution_count": 11,
   "metadata": {},
   "outputs": [
    {
     "name": "stderr",
     "output_type": "stream",
     "text": [
      "/Applications/anaconda2/lib/python2.7/site-packages/ipykernel_launcher.py:8: RuntimeWarning: invalid value encountered in double_scalars\n",
      "  \n"
     ]
    },
    {
     "name": "stdout",
     "output_type": "stream",
     "text": [
      "[ 0.  0.  0. ...,  0.  0.  0.]\n",
      "Execution time: 7.457760 seconds\n"
     ]
    }
   ],
   "source": [
    "# Just initializing so we have somewhere to put rating preds\n",
    "out = np.zeros(n_items)\n",
    "for item_to_rate in range(n_items):\n",
    "    relevant_items = np.intersect1d(neighborhoods[item_to_rate],\n",
    "                                    items_rated_by_this_user,\n",
    "                                    assume_unique=True)  # assume_unique speeds up intersection op\n",
    "\n",
    "    out[item_to_rate] = np.dot(df_utility.loc[user_id][list(relevant_items)].values ,\\\n",
    "        item_sim_mat[item_to_rate, list(relevant_items)] )/ \\\n",
    "        item_sim_mat[item_to_rate, list(relevant_items)].sum()\n",
    "\n",
    "\n",
    "pred_ratings = np.nan_to_num(out)\n",
    "\n",
    "print(pred_ratings)\n",
    "\n",
    "print(\"Execution time: %f seconds\" % (time()-start_time))"
   ]
  },
  {
   "cell_type": "code",
   "execution_count": 12,
   "metadata": {},
   "outputs": [
    {
     "data": {
      "text/plain": [
       "[8816, 2936, 2941, 2940, 2939, 2938, 2937, 2935, 2934, 2933]"
      ]
     },
     "execution_count": 12,
     "metadata": {},
     "output_type": "execute_result"
    }
   ],
   "source": [
    "# Recommend n business\n",
    "n = 10\n",
    "\n",
    "# Get item indexes sorted by predicted rating\n",
    "item_index_sorted_by_pred_rating = list(np.argsort(pred_ratings))[::-1]\n",
    "\n",
    "# Find items that have been rated by user\n",
    "items_rated_by_this_user = df_utility.loc[user_id].nonzero()[0]\n",
    "\n",
    "# We want to exclude the items that have been rated by user\n",
    "unrated_items_by_pred_rating = [item for item in item_index_sorted_by_pred_rating\n",
    "                                if item not in items_rated_by_this_user]\n",
    "\n",
    "unrated_items_by_pred_rating[:n]"
   ]
  },
  {
   "cell_type": "code",
   "execution_count": 13,
   "metadata": {},
   "outputs": [
    {
     "name": "stdout",
     "output_type": "stream",
     "text": [
      "309.615930262\n",
      "((7862, 200), (200, 8817))\n"
     ]
    }
   ],
   "source": [
    "## Another recoomendation: NFM \n",
    "\n",
    "ratings_mat = np.mat(df_utility.values)\n",
    "\n",
    "\n",
    "\n",
    "from sklearn.decomposition import NMF\n",
    "\n",
    "def fit_nmf(M,k):\n",
    "    nmf = NMF(n_components=k)\n",
    "    nmf.fit(M)\n",
    "    W = nmf.transform(M);\n",
    "    H = nmf.components_;\n",
    "    err = nmf.reconstruction_err_\n",
    "    return W,H,err\n",
    "\n",
    "# decompose\n",
    "W,H,err = fit_nmf(ratings_mat,200)\n",
    "\n",
    "print(err)\n",
    "\n",
    "print(W.shape,H.shape)\n",
    "\n",
    "\n",
    "\n"
   ]
  },
  {
   "cell_type": "code",
   "execution_count": 14,
   "metadata": {},
   "outputs": [
    {
     "name": "stdout",
     "output_type": "stream",
     "text": [
      "8.6797886392\n",
      "2.41421002402\n"
     ]
    }
   ],
   "source": [
    "# reconstruct\n",
    "ratings_mat_fitted = W.dot(H)\n",
    "errs = np.array((ratings_mat-ratings_mat_fitted).flatten()).squeeze()\n",
    "mask = np.array(ratings_mat.flatten()).squeeze()>0\n",
    "\n",
    "mse = np.mean(errs[mask]**2)\n",
    "average_abs_err = abs(errs[mask]).mean()\n",
    "print(mse)\n",
    "print(average_abs_err)\n"
   ]
  },
  {
   "cell_type": "code",
   "execution_count": 15,
   "metadata": {},
   "outputs": [
    {
     "data": {
      "text/plain": [
       "[8816, 2935, 2941, 2940, 2939, 2938, 2937, 2936, 2934, 2960]"
      ]
     },
     "execution_count": 15,
     "metadata": {},
     "output_type": "execute_result"
    }
   ],
   "source": [
    "user_id = 100\n",
    "n = 10\n",
    "\n",
    "pred_ratings = ratings_mat_fitted[user_id,:]\n",
    "item_index_sorted_by_pred_rating = list(np.argsort(pred_ratings))[::-1]\n",
    "\n",
    "items_rated_by_this_user = ratings_mat[user_id].nonzero()[1]\n",
    "\n",
    "unrated_items_by_pred_rating = [item for item in item_index_sorted_by_pred_rating\n",
    "                                if item not in items_rated_by_this_user]\n",
    "\n",
    "unrated_items_by_pred_rating[:n]\n",
    "\n"
   ]
  },
  {
   "cell_type": "code",
   "execution_count": 16,
   "metadata": {},
   "outputs": [
    {
     "name": "stdout",
     "output_type": "stream",
     "text": [
      "[(1, 0.0), (1, 0.0), (1, 0.0)]\n",
      "[[ 1.  1.  1.]]\n",
      "1.0\n"
     ]
    }
   ],
   "source": [
    "### check errors\n",
    "# truth\n",
    "ratings_true = ratings_mat[user_id, items_rated_by_this_user]\n",
    "# prediction\n",
    "ratings_pred = pred_ratings[items_rated_by_this_user]\n",
    "print(list(zip(np.array(ratings_true).squeeze(),ratings_pred)))\n",
    "\n",
    "\n",
    "err_one_user = ratings_true-ratings_pred\n",
    "\n",
    "\n",
    "print(err_one_user)\n",
    "\n",
    "\n",
    "print(abs(err_one_user).mean())"
   ]
  },
  {
   "cell_type": "code",
   "execution_count": 17,
   "metadata": {},
   "outputs": [
    {
     "name": "stdout",
     "output_type": "stream",
     "text": [
      "((7862, 200), (200, 8817))\n"
     ]
    }
   ],
   "source": [
    "######## Let's try UVD\n",
    "\n",
    "from sklearn.decomposition import TruncatedSVD\n",
    "\n",
    "def fit_uvd(M,k):\n",
    "    # use TruncatedSVD to realize UVD\n",
    "    svd = TruncatedSVD(n_components=k, n_iter=7, random_state=0)\n",
    "    svd.fit(M)\n",
    "\n",
    "    V = svd.components_\n",
    "    U = svd.transform(M) # effectively, it's doing: U = M.dot(V.T)\n",
    "    # we can ignore svd.singular_values_ for our purpose\n",
    "    \n",
    "    # why we can do this?\n",
    "    # recall: \n",
    "    # SVD start from u*s*v=M => u*s=M*v.T, where M*v.T is our transformation above \n",
    "    # to get U in UVD\n",
    "    # so the above U is effectively u*s in SVD\n",
    "    # that's why U*V = u*s*v = M our original matrix\n",
    "    # there are many ways to understand it!\n",
    "    # here we by-passed singular values.\n",
    "    \n",
    "    return U,V, svd\n",
    "\n",
    "# decompose\n",
    "U,V,svd = fit_uvd(ratings_mat,200)\n",
    "\n",
    "\n",
    "print(U.shape,V.shape)\n",
    "\n"
   ]
  },
  {
   "cell_type": "code",
   "execution_count": 18,
   "metadata": {},
   "outputs": [
    {
     "name": "stdout",
     "output_type": "stream",
     "text": [
      "8.55390955387\n",
      "2.41102168426\n"
     ]
    }
   ],
   "source": [
    "# reconstruct\n",
    "ratings_mat_fitted = U.dot(V) # U*V\n",
    "\n",
    "\n",
    "# recall: U = M.dot(V.T), then this is M.dot(V.T).dot(V)\n",
    "# original M is transformed to new space, then transformed back\n",
    "# this is another way to understand it!\n",
    "\n",
    "# calculate errs\n",
    "errs = np.array((ratings_mat-ratings_mat_fitted).flatten()).squeeze()\n",
    "mask = np.array((ratings_mat).flatten()).squeeze()>0\n",
    "\n",
    "mse = np.mean(errs[mask]**2)\n",
    "average_abs_err = abs(errs[mask]).mean()\n",
    "print(mse)\n",
    "print(average_abs_err)"
   ]
  },
  {
   "cell_type": "code",
   "execution_count": 19,
   "metadata": {},
   "outputs": [
    {
     "name": "stdout",
     "output_type": "stream",
     "text": [
      "0.0\n"
     ]
    }
   ],
   "source": [
    "# compare with another way to reconstruct matrix\n",
    "# with the above \"tranformed to the new space and back\" language\n",
    "# without the UV language, we can do:\n",
    "\n",
    "# reconstruct M with inverse_transform\n",
    "ratings_mat_fitted_2 = svd.inverse_transform(svd.transform(ratings_mat))\n",
    "ratings_mat_fitted = U.dot(V)\n",
    "print(sum(sum(ratings_mat_fitted - ratings_mat_fitted_2)))\n",
    "# they are just equivalent!!"
   ]
  },
  {
   "cell_type": "code",
   "execution_count": 20,
   "metadata": {},
   "outputs": [
    {
     "data": {
      "text/plain": [
       "[2479, 4499, 5154, 973, 1588, 776, 4613, 3557, 5344, 3787]"
      ]
     },
     "execution_count": 20,
     "metadata": {},
     "output_type": "execute_result"
    }
   ],
   "source": [
    "# get recommendations for one user\n",
    "user_id = 100\n",
    "n = 10\n",
    "\n",
    "pred_ratings = ratings_mat_fitted[user_id,:]\n",
    "item_index_sorted_by_pred_rating = list(np.argsort(pred_ratings))[::-1]\n",
    "\n",
    "items_rated_by_this_user = ratings_mat[user_id].nonzero()[1]\n",
    "\n",
    "unrated_items_by_pred_rating = [item for item in item_index_sorted_by_pred_rating\n",
    "                                if item not in items_rated_by_this_user]\n",
    "\n",
    "unrated_items_by_pred_rating[:n]\n",
    "\n",
    "\n"
   ]
  },
  {
   "cell_type": "code",
   "execution_count": 21,
   "metadata": {},
   "outputs": [
    {
     "name": "stdout",
     "output_type": "stream",
     "text": [
      "[(1, 1.254648206364032e-21), (1, 1.254648206364032e-21), (1, 1.254648206364032e-21)]\n",
      "[[ 1.  1.  1.]]\n",
      "1.0\n"
     ]
    }
   ],
   "source": [
    "### check errors\n",
    "# truth\n",
    "ratings_true = ratings_mat[user_id, items_rated_by_this_user]\n",
    "# prediction\n",
    "ratings_pred = pred_ratings[items_rated_by_this_user]\n",
    "print(list(zip(np.array(ratings_true).squeeze(),ratings_pred)))\n",
    "\n",
    "\n",
    "\n",
    "err_one_user = ratings_true-ratings_pred\n",
    "print(err_one_user)\n",
    "\n",
    "print(abs(err_one_user).mean())"
   ]
  },
  {
   "cell_type": "code",
   "execution_count": null,
   "metadata": {
    "collapsed": true
   },
   "outputs": [],
   "source": []
  }
 ],
 "metadata": {
  "kernelspec": {
   "display_name": "Python 2",
   "language": "python",
   "name": "python2"
  },
  "language_info": {
   "codemirror_mode": {
    "name": "ipython",
    "version": 2
   },
   "file_extension": ".py",
   "mimetype": "text/x-python",
   "name": "python",
   "nbconvert_exporter": "python",
   "pygments_lexer": "ipython2",
   "version": "2.7.14"
  }
 },
 "nbformat": 4,
 "nbformat_minor": 2
}
