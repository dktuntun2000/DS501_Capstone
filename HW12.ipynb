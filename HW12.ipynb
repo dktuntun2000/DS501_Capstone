{
 "cells": [
  {
   "cell_type": "code",
   "execution_count": 4,
   "metadata": {
    "collapsed": true
   },
   "outputs": [],
   "source": [
    "# To support both python 2 and python 3\n",
    "from __future__ import division, print_function, unicode_literals\n",
    "\n",
    "# Common imports\n",
    "import numpy as np\n",
    "import os\n",
    "import tensorflow as tf\n",
    "\n",
    "# to make this notebook's output stable across runs\n",
    "def reset_graph(seed=42):\n",
    "    tf.reset_default_graph()\n",
    "    tf.set_random_seed(seed)\n",
    "    np.random.seed(seed)"
   ]
  },
  {
   "cell_type": "code",
   "execution_count": 5,
   "metadata": {
    "collapsed": true
   },
   "outputs": [],
   "source": [
    "he_init = tf.contrib.layers.variance_scaling_initializer()\n",
    "\n",
    "def dnn(inputs, n_hidden_layers=5, n_neurons=100, name=None,\n",
    "        activation=tf.nn.elu, initializer=he_init):\n",
    "    with tf.variable_scope(name, \"dnn\"):\n",
    "        for layer in range(n_hidden_layers):\n",
    "            inputs = tf.layers.dense(inputs, n_neurons, activation=activation,\n",
    "                                     kernel_initializer=initializer,\n",
    "                                     name=\"hidden%d\" % (layer + 1))\n",
    "        return inputs"
   ]
  },
  {
   "cell_type": "code",
   "execution_count": 6,
   "metadata": {
    "collapsed": true
   },
   "outputs": [],
   "source": [
    "from tensorflow import keras\n",
    "from tensorflow.python.keras.datasets import mnist\n",
    "from tensorflow.python.keras.utils import to_categorical\n",
    "import numpy as np\n",
    "import matplotlib.pyplot as plt\n",
    "%matplotlib inline\n"
   ]
  },
  {
   "cell_type": "code",
   "execution_count": 7,
   "metadata": {},
   "outputs": [
    {
     "name": "stdout",
     "output_type": "stream",
     "text": [
      "WARNING:tensorflow:From <ipython-input-7-01b58c21d42c>:2: read_data_sets (from tensorflow.contrib.learn.python.learn.datasets.mnist) is deprecated and will be removed in a future version.\n",
      "Instructions for updating:\n",
      "Please use alternatives such as official/mnist/dataset.py from tensorflow/models.\n",
      "WARNING:tensorflow:From /Applications/anaconda2/lib/python2.7/site-packages/tensorflow/contrib/learn/python/learn/datasets/mnist.py:260: maybe_download (from tensorflow.contrib.learn.python.learn.datasets.base) is deprecated and will be removed in a future version.\n",
      "Instructions for updating:\n",
      "Please write your own downloading logic.\n",
      "WARNING:tensorflow:From /Applications/anaconda2/lib/python2.7/site-packages/tensorflow/contrib/learn/python/learn/datasets/mnist.py:262: extract_images (from tensorflow.contrib.learn.python.learn.datasets.mnist) is deprecated and will be removed in a future version.\n",
      "Instructions for updating:\n",
      "Please use tf.data to implement this functionality.\n",
      "Extracting /tmp/data/train-images-idx3-ubyte.gz\n",
      "WARNING:tensorflow:From /Applications/anaconda2/lib/python2.7/site-packages/tensorflow/contrib/learn/python/learn/datasets/mnist.py:267: extract_labels (from tensorflow.contrib.learn.python.learn.datasets.mnist) is deprecated and will be removed in a future version.\n",
      "Instructions for updating:\n",
      "Please use tf.data to implement this functionality.\n",
      "Extracting /tmp/data/train-labels-idx1-ubyte.gz\n",
      "Extracting /tmp/data/t10k-images-idx3-ubyte.gz\n",
      "Extracting /tmp/data/t10k-labels-idx1-ubyte.gz\n",
      "WARNING:tensorflow:From /Applications/anaconda2/lib/python2.7/site-packages/tensorflow/contrib/learn/python/learn/datasets/mnist.py:290: __init__ (from tensorflow.contrib.learn.python.learn.datasets.mnist) is deprecated and will be removed in a future version.\n",
      "Instructions for updating:\n",
      "Please use alternatives such as official/mnist/dataset.py from tensorflow/models.\n"
     ]
    }
   ],
   "source": [
    "from tensorflow.examples.tutorials.mnist import input_data\n",
    "mnist = input_data.read_data_sets(\"/tmp/data/\")\n",
    "#(x_train, y_train), (x_test, y_test) = mnist.load_data()"
   ]
  },
  {
   "cell_type": "code",
   "execution_count": 8,
   "metadata": {},
   "outputs": [
    {
     "data": {
      "text/plain": [
       "(array([ 5444.,  6179.,  5470.,  5638.,  5307.,  4987.,  5417.,  5715.,\n",
       "         5389.,  5454.]),\n",
       " array([ 0. ,  0.9,  1.8,  2.7,  3.6,  4.5,  5.4,  6.3,  7.2,  8.1,  9. ]),\n",
       " <a list of 10 Patch objects>)"
      ]
     },
     "execution_count": 8,
     "metadata": {},
     "output_type": "execute_result"
    },
    {
     "data": {
      "image/png": "[encoded data removed]",
      "text/plain": [
       "<matplotlib.figure.Figure at 0x1c25be6f50>"
      ]
     },
     "metadata": {},
     "output_type": "display_data"
    }
   ],
   "source": [
    "x_train1 = mnist.train.images[mnist.train.labels < 5]\n",
    "x_train = mnist.train.images\n",
    "y_train = mnist.train.labels\n",
    "x_valid = mnist.validation.images\n",
    "y_valid = mnist.validation.labels\n",
    "x_test = mnist.test.images\n",
    "y_test = mnist.test.labels\n",
    "\n",
    "\n",
    "plt.hist(y_train, bins = 10)"
   ]
  },
  {
   "cell_type": "code",
   "execution_count": 9,
   "metadata": {
    "collapsed": true
   },
   "outputs": [],
   "source": [
    "# keep in mind that we will be peeling off the 5 digits\n",
    "# Let's define a helper function that to help us separate out only the digits we want from the mixed entire dataset.\n",
    "def getDigitsFromDataset(digits, x , y):\n",
    "    \n",
    "    mask = np.zeros_like(y,dtype = bool)\n",
    "    \n",
    "    for digit in digits:\n",
    "        \n",
    "        mask += (y == digit)\n",
    "        \n",
    "    x = x[mask]\n",
    "    y = y[mask]\n",
    "    \n",
    "    return x,y\n",
    "\n",
    "    "
   ]
  },
  {
   "cell_type": "code",
   "execution_count": 10,
   "metadata": {},
   "outputs": [
    {
     "data": {
      "text/plain": [
       "array([[ True,  True,  True, ...,  True,  True,  True],\n",
       "       [ True,  True,  True, ...,  True,  True,  True],\n",
       "       [ True,  True,  True, ...,  True,  True,  True],\n",
       "       ..., \n",
       "       [ True,  True,  True, ...,  True,  True,  True],\n",
       "       [ True,  True,  True, ...,  True,  True,  True],\n",
       "       [ True,  True,  True, ...,  True,  True,  True]], dtype=bool)"
      ]
     },
     "execution_count": 10,
     "metadata": {},
     "output_type": "execute_result"
    }
   ],
   "source": [
    "# Let's adopt a naming system that will help us keep what we're trying to do straight:# \n",
    "# base will refer to the dataset containing the digits 0 through 4.\n",
    "# transfer will refer to the dataset containing the digits 5 and 9.\n",
    "\n",
    "x_train_base, y_train_base = getDigitsFromDataset(range(5), x_train, y_train)\n",
    "\n",
    "x_train_base == x_train1"
   ]
  },
  {
   "cell_type": "code",
   "execution_count": 11,
   "metadata": {
    "collapsed": true
   },
   "outputs": [],
   "source": [
    "\n",
    "def plot_grid(x, grid_size = 6):\n",
    "    \n",
    "    plt.figure(figsize = (18,9))\n",
    "    \n",
    "    for i in range(1,2* grid_size**2 +1,1):\n",
    "        \n",
    "        plt.subplot(grid_size, 2*grid_size, i)\n",
    "        plt.imshow(x[i], cmap = plt.get_cmap('gray'))\n",
    "        plt.axis('off')\n",
    "        \n",
    "    plt.show()"
   ]
  },
  {
   "cell_type": "code",
   "execution_count": 12,
   "metadata": {
    "collapsed": true
   },
   "outputs": [],
   "source": [
    "#plot_grid(x_train_base)"
   ]
  },
  {
   "cell_type": "code",
   "execution_count": 13,
   "metadata": {
    "collapsed": true
   },
   "outputs": [],
   "source": [
    "x_test_base, y_test_base = getDigitsFromDataset(range(5), x_test, y_test)\n",
    "x_train_transfer, y_train_transfer = getDigitsFromDataset([5,6,7,8, 9], x_train, y_train)\n"
   ]
  },
  {
   "cell_type": "code",
   "execution_count": 24,
   "metadata": {},
   "outputs": [
    {
     "data": {
      "image/png": "[encoded data removed]",
      "text/plain": [
       "<matplotlib.figure.Figure at 0x1c3188a450>"
      ]
     },
     "metadata": {},
     "output_type": "display_data"
    }
   ],
   "source": [
    "#plot_grid(x_train_transfer)"
   ]
  },
  {
   "cell_type": "code",
   "execution_count": 14,
   "metadata": {
    "collapsed": true
   },
   "outputs": [],
   "source": [
    "x_test_transfer, y_test_transfer = getDigitsFromDataset([5,6,7,8,9], x_test, y_test)"
   ]
  },
  {
   "cell_type": "code",
   "execution_count": 15,
   "metadata": {
    "collapsed": true
   },
   "outputs": [],
   "source": [
    "def dnn(inputs, n_hidden_layers=5, n_neurons=100, name=None,\n",
    "        activation=tf.nn.elu, initializer=he_init):\n",
    "    with tf.variable_scope(name, \"dnn\"):\n",
    "        for layer in range(n_hidden_layers):\n",
    "            inputs = tf.layers.dense(inputs, n_neurons, activation=activation,\n",
    "                                     kernel_initializer=initializer,\n",
    "                                     name=\"hidden%d\" % (layer + 1))\n",
    "        return inputs"
   ]
  },
  {
   "cell_type": "code",
   "execution_count": 61,
   "metadata": {},
   "outputs": [],
   "source": [
    "n_inputs = 28 * 28 # MNIST\n",
    "n_outputs = 5\n",
    "reset_graph()\n",
    "X = tf.placeholder(tf.float32, shape=(None, n_inputs), name=\"inputs\")\n",
    "### Base Model\n",
    "with tf.variable_scope('base'):    \n",
    "    y_base = tf.placeholder(tf.int64, shape = (None,5), name='labels')\n",
    "    with tf.variable_scope(None, \"dnn\"):\n",
    "        inputs = X        \n",
    "        inputs_1 = tf.layers.dense(inputs, 100, activation= tf.nn.elu,\n",
    "                                     kernel_initializer= he_init,\n",
    "                                     name=\"hidden%d\" % 1)\n",
    "        inputs_2 = tf.layers.dense(inputs_1, 100, activation= tf.nn.elu,\n",
    "                                     kernel_initializer= he_init,\n",
    "                                     name=\"hidden%d\" % 2)\n",
    "        inputs_3 = tf.layers.dense(inputs_2, 100, activation= tf.nn.elu,\n",
    "                                     kernel_initializer= he_init,\n",
    "                                     name=\"hidden%d\" % 3)\n",
    "        \n",
    "        inputs_4 = tf.layers.dense(inputs_3, 100, activation= tf.nn.elu,\n",
    "                                     kernel_initializer= he_init,\n",
    "                                     name=\"hidden%d\" % 4)\n",
    "        inputs_5 = tf.layers.dense(inputs_4, 100, activation= tf.nn.elu,\n",
    "                                     kernel_initializer= he_init,\n",
    "\n",
    "    with tf.variable_scope(\"logits\"):\n",
    "        logits = tf.contrib.layers.fully_connected(inputs= inputs_5,\n",
    "                                      num_outputs=5,\n",
    "                                      activation_fn=None,\n",
    "                                      weights_initializer=tf.initializers.truncated_normal(stddev=0.1),\n",
    "                                      biases_initializer=tf.initializers.constant(0.1))\n",
    "        Y_proba = tf.nn.softmax(logits, name=\"Y_proba\")\n",
    "    #### Model Evaluation\n",
    "    \n",
    "    with tf.variable_scope(\"cross_entropy\"):\n",
    "        cross_entropy_base = tf.reduce_mean(\n",
    "        tf.nn.softmax_cross_entropy_with_logits(labels=y_base, logits=logits))\n",
    "    \n",
    "    base_vars = [var for var in tf.trainable_variables() if var.name.startswith(\"base\")]\n",
    "    \n",
    "    with tf.variable_scope(\"Adam\"):\n",
    "        train_step_base = tf.train.AdamOptimizer(1e-4).minimize(cross_entropy_base, var_list=base_vars)\n",
    "    \n",
    "    with tf.variable_scope(\"correct_prediction\"):\n",
    "        correct_prediction_base = tf.equal(tf.argmax(logits, 1), tf.argmax(y_base, 1))\n",
    "    \n",
    "    with tf.variable_scope(\"accuracy\"):\n",
    "        accuracy_base = tf.reduce_mean(tf.cast(correct_prediction_base, tf.float32))\n",
    "        accuracy_base_summary = tf.summary.scalar(\"base_accuracy\", accuracy_base)\n",
    "        \n",
    "\n",
    "        \n",
    "### Transfer Fork with frozen five layers\n",
    "with tf.variable_scope(\"transfer\"):\n",
    "    y_trans = tf.placeholder(tf.float32, shape=[None, 5], name=\"labels\")\n",
    "    \n",
    "    # FC\n",
    "    with tf.variable_scope(\"logits\"):\n",
    "        fc2_trans = tf.contrib.layers.fully_connected(inputs=inputs_5,\n",
    "                                      num_outputs=5,\n",
    "                                      activation_fn=None,\n",
    "                                      weights_initializer=tf.initializers.truncated_normal(stddev=0.1),\n",
    "                                      biases_initializer=tf.initializers.constant(0.1))\n",
    "    \n",
    "    #### Model Evaluation\n",
    "    with tf.variable_scope(\"cross_entropy\"):\n",
    "        cross_entropy_trans = tf.reduce_mean(\n",
    "        tf.nn.softmax_cross_entropy_with_logits(labels=y_trans, logits=fc2_trans))\n",
    "    \n",
    "    trans_vars = [var for var in tf.trainable_variables() if var.name.startswith(\"transfer\")]\n",
    "    \n",
    "    with tf.variable_scope(\"Adam\"):\n",
    "        train_step_trans = tf.train.AdamOptimizer(1e-4).minimize(cross_entropy_trans, var_list=trans_vars)\n",
    "        \n",
    "    with tf.variable_scope(\"correct_prediction\"):\n",
    "        correct_prediction_trans = tf.equal(tf.argmax(fc2_trans, 1), tf.argmax(y_trans, 1))\n",
    "    \n",
    "    with tf.variable_scope(\"accuracy\"):\n",
    "        accuracy_trans = tf.reduce_mean(tf.cast(correct_prediction_trans, tf.float32))\n",
    "        accuracy_trans_summary = tf.summary.scalar(\"transfer_accuracy\", accuracy_trans)\n",
    "    \n",
    "        \n",
    "### Transfer Fork with only frozen four layers\n",
    "with tf.variable_scope(\"transfer_4\"):\n",
    "    y_trans_4 = tf.placeholder(tf.float32, shape=[None, 5], name=\"labels\")\n",
    "    \n",
    "    # FC\n",
    "    with tf.variable_scope(\"logits\"):\n",
    "        fc2_trans_4 = tf.contrib.layers.fully_connected(inputs=inputs_4,\n",
    "                                      num_outputs=5,\n",
    "                                      activation_fn=None,\n",
    "                                      weights_initializer=tf.initializers.truncated_normal(stddev=0.1),\n",
    "                                      biases_initializer=tf.initializers.constant(0.1))\n",
    "    \n",
    "    #### Model Evaluation\n",
    "    with tf.variable_scope(\"cross_entropy\"):\n",
    "        cross_entropy_trans_4 = tf.reduce_mean(\n",
    "        tf.nn.softmax_cross_entropy_with_logits(labels=y_trans_4, logits=fc2_trans_4))\n",
    "        \n",
    "    trans_vars_4 = [var for var in tf.trainable_variables() if var.name.startswith(\"transfer_4\")]\n",
    "    \n",
    "    with tf.variable_scope(\"Adam\"):\n",
    "        train_step_trans_4 = tf.train.AdamOptimizer(1e-4).minimize(cross_entropy_trans_4, var_list=trans_vars_4)\n",
    "        \n",
    "    with tf.variable_scope(\"correct_prediction\"):\n",
    "        correct_prediction_trans_4 = tf.equal(tf.argmax(fc2_trans_4, 1), tf.argmax(y_trans_4, 1))\n",
    "    \n",
    "    with tf.variable_scope(\"accuracy\"):\n",
    "        accuracy_trans_4 = tf.reduce_mean(tf.cast(correct_prediction_trans_4, tf.float32))\n",
    "        accuracy_trans_summary_4 = tf.summary.scalar(\"transfer_accuracy\", accuracy_trans_4)\n",
    "        \n",
    "### Transfer Fork with frozen three layers plus two unfrozen layers\n",
    "with tf.variable_scope(\"transfer_3\"):\n",
    "    y_trans_3 = tf.placeholder(tf.float32, shape=[None, 5], name=\"labels\")\n",
    "\n",
    "    with tf.variable_scope(None, \"dnn\"):\n",
    "        ## retrain the top two layers\n",
    "        \n",
    "        inputs_6 = tf.layers.dense(inputs_3, 100, activation= tf.nn.elu,\n",
    "                                     kernel_initializer= he_init,\n",
    "                                     name=\"hidden%d\" % 6)\n",
    "        inputs_7 = tf.layers.dense(inputs_6, 100, activation= tf.nn.elu,\n",
    "                                     kernel_initializer= he_init,\n",
    "                                     name=\"hidden%d\" % 7)\n",
    "\n",
    "    \n",
    "    # FC\n",
    "    with tf.variable_scope(\"logits\"):\n",
    "        fc2_trans_3 = tf.contrib.layers.fully_connected(inputs=inputs_7,\n",
    "                                      num_outputs=5,\n",
    "                                      activation_fn=None,\n",
    "                                      weights_initializer=tf.initializers.truncated_normal(stddev=0.1),\n",
    "                                      biases_initializer=tf.initializers.constant(0.1))\n",
    "    \n",
    "    #### Model Evaluation\n",
    "    with tf.variable_scope(\"cross_entropy\"):\n",
    "        cross_entropy_trans_3 = tf.reduce_mean(\n",
    "        tf.nn.softmax_cross_entropy_with_logits(labels=y_trans_3, logits=fc2_trans_3))\n",
    "\n",
    "    trans_vars_3 = [var for var in tf.trainable_variables() if var.name.startswith(\"transfer_3\")]\n",
    "    \n",
    "    with tf.variable_scope(\"Adam\"):\n",
    "        train_step_trans_3 = tf.train.AdamOptimizer(1e-4).minimize(cross_entropy_trans_3, var_list=trans_vars_3)\n",
    "        \n",
    "    with tf.variable_scope(\"correct_prediction\"):\n",
    "        correct_prediction_trans_3 = tf.equal(tf.argmax(fc2_trans_3, 1), tf.argmax(y_trans_3, 1))\n",
    "    \n",
    "    with tf.variable_scope(\"accuracy\"):\n",
    "        accuracy_trans_3 = tf.reduce_mean(tf.cast(correct_prediction_trans_3, tf.float32))\n",
    "        accuracy_trans_summary_3 = tf.summary.scalar(\"transfer_accuracy\", accuracy_trans_3)"
   ]
  },
  {
   "cell_type": "code",
   "execution_count": 55,
   "metadata": {},
   "outputs": [
    {
     "data": {
      "text/plain": [
       "[<tf.Variable 'base/dnn/hidden1/kernel:0' shape=(784, 100) dtype=float32_ref>,\n",
       " <tf.Variable 'base/dnn/hidden1/bias:0' shape=(100,) dtype=float32_ref>,\n",
       " <tf.Variable 'base/dnn/hidden2/kernel:0' shape=(100, 100) dtype=float32_ref>,\n",
       " <tf.Variable 'base/dnn/hidden2/bias:0' shape=(100,) dtype=float32_ref>,\n",
       " <tf.Variable 'base/dnn/hidden3/kernel:0' shape=(100, 100) dtype=float32_ref>,\n",
       " <tf.Variable 'base/dnn/hidden3/bias:0' shape=(100,) dtype=float32_ref>,\n",
       " <tf.Variable 'base/dnn/hidden4/kernel:0' shape=(100, 100) dtype=float32_ref>,\n",
       " <tf.Variable 'base/dnn/hidden4/bias:0' shape=(100,) dtype=float32_ref>,\n",
       " <tf.Variable 'base/dnn/hidden5/kernel:0' shape=(100, 100) dtype=float32_ref>,\n",
       " <tf.Variable 'base/dnn/hidden5/bias:0' shape=(100,) dtype=float32_ref>,\n",
       " <tf.Variable 'base/logits/fully_connected/weights:0' shape=(100, 5) dtype=float32_ref>,\n",
       " <tf.Variable 'base/logits/fully_connected/biases:0' shape=(5,) dtype=float32_ref>]"
      ]
     },
     "execution_count": 55,
     "metadata": {},
     "output_type": "execute_result"
    }
   ],
   "source": [
    "base_vars"
   ]
  },
  {
   "cell_type": "code",
   "execution_count": 62,
   "metadata": {},
   "outputs": [
    {
     "data": {
      "text/plain": [
       "[<tf.Variable 'transfer_3/dnn/hidden6/kernel:0' shape=(100, 100) dtype=float32_ref>,\n",
       " <tf.Variable 'transfer_3/dnn/hidden6/bias:0' shape=(100,) dtype=float32_ref>,\n",
       " <tf.Variable 'transfer_3/dnn/hidden7/kernel:0' shape=(100, 100) dtype=float32_ref>,\n",
       " <tf.Variable 'transfer_3/dnn/hidden7/bias:0' shape=(100,) dtype=float32_ref>,\n",
       " <tf.Variable 'transfer_3/logits/fully_connected/weights:0' shape=(100, 5) dtype=float32_ref>,\n",
       " <tf.Variable 'transfer_3/logits/fully_connected/biases:0' shape=(5,) dtype=float32_ref>]"
      ]
     },
     "execution_count": 62,
     "metadata": {},
     "output_type": "execute_result"
    }
   ],
   "source": [
    " trans_vars_3"
   ]
  },
  {
   "cell_type": "code",
   "execution_count": null,
   "metadata": {
    "collapsed": true
   },
   "outputs": [],
   "source": []
  },
  {
   "cell_type": "code",
   "execution_count": 63,
   "metadata": {},
   "outputs": [
    {
     "name": "stdout",
     "output_type": "stream",
     "text": [
      "INFO:tensorflow:Summary name base/dnn/hidden1/kernel:0 is illegal; using base/dnn/hidden1/kernel_0 instead.\n",
      "INFO:tensorflow:Summary name base/dnn/hidden1/bias:0 is illegal; using base/dnn/hidden1/bias_0 instead.\n",
      "INFO:tensorflow:Summary name base/dnn/hidden2/kernel:0 is illegal; using base/dnn/hidden2/kernel_0 instead.\n",
      "INFO:tensorflow:Summary name base/dnn/hidden2/bias:0 is illegal; using base/dnn/hidden2/bias_0 instead.\n",
      "INFO:tensorflow:Summary name base/dnn/hidden3/kernel:0 is illegal; using base/dnn/hidden3/kernel_0 instead.\n",
      "INFO:tensorflow:Summary name base/dnn/hidden3/bias:0 is illegal; using base/dnn/hidden3/bias_0 instead.\n",
      "INFO:tensorflow:Summary name base/dnn/hidden4/kernel:0 is illegal; using base/dnn/hidden4/kernel_0 instead.\n",
      "INFO:tensorflow:Summary name base/dnn/hidden4/bias:0 is illegal; using base/dnn/hidden4/bias_0 instead.\n",
      "INFO:tensorflow:Summary name base/dnn/hidden5/kernel:0 is illegal; using base/dnn/hidden5/kernel_0 instead.\n",
      "INFO:tensorflow:Summary name base/dnn/hidden5/bias:0 is illegal; using base/dnn/hidden5/bias_0 instead.\n",
      "INFO:tensorflow:Summary name base/logits/fully_connected/weights:0 is illegal; using base/logits/fully_connected/weights_0 instead.\n",
      "INFO:tensorflow:Summary name base/logits/fully_connected/biases:0 is illegal; using base/logits/fully_connected/biases_0 instead.\n",
      "INFO:tensorflow:Summary name transfer/logits/fully_connected/weights:0 is illegal; using transfer/logits/fully_connected/weights_0 instead.\n",
      "INFO:tensorflow:Summary name transfer/logits/fully_connected/biases:0 is illegal; using transfer/logits/fully_connected/biases_0 instead.\n",
      "INFO:tensorflow:Summary name transfer_4/logits/fully_connected/weights:0 is illegal; using transfer_4/logits/fully_connected/weights_0 instead.\n",
      "INFO:tensorflow:Summary name transfer_4/logits/fully_connected/biases:0 is illegal; using transfer_4/logits/fully_connected/biases_0 instead.\n",
      "INFO:tensorflow:Summary name transfer_3/dnn/hidden6/kernel:0 is illegal; using transfer_3/dnn/hidden6/kernel_0 instead.\n",
      "INFO:tensorflow:Summary name transfer_3/dnn/hidden6/bias:0 is illegal; using transfer_3/dnn/hidden6/bias_0 instead.\n",
      "INFO:tensorflow:Summary name transfer_3/dnn/hidden7/kernel:0 is illegal; using transfer_3/dnn/hidden7/kernel_0 instead.\n",
      "INFO:tensorflow:Summary name transfer_3/dnn/hidden7/bias:0 is illegal; using transfer_3/dnn/hidden7/bias_0 instead.\n",
      "INFO:tensorflow:Summary name transfer_3/logits/fully_connected/weights:0 is illegal; using transfer_3/logits/fully_connected/weights_0 instead.\n",
      "INFO:tensorflow:Summary name transfer_3/logits/fully_connected/biases:0 is illegal; using transfer_3/logits/fully_connected/biases_0 instead.\n"
     ]
    }
   ],
   "source": [
    "# Create a variable summary for every trainable variable\n",
    "# and save these summaries to a list to merge later\n",
    "variable_summaries_to_merge = []\n",
    "for v in tf.trainable_variables():\n",
    "    tmp = tf.summary.histogram(v.name, v)\n",
    "    variable_summaries_to_merge.append(tmp)"
   ]
  },
  {
   "cell_type": "code",
   "execution_count": 64,
   "metadata": {
    "collapsed": true
   },
   "outputs": [],
   "source": [
    "# n_epochs = 1000\n",
    "# batch_size = 20\n",
    "\n",
    "def get_batches(x, y, batch_size=20, num_classes=5):\n",
    "    '''\n",
    "    Given a set of features x, and a set of labels y,\n",
    "    return a generator yields shuffled batch_size tuples of x and y.\n",
    "    \n",
    "    Note that this function truncates x and y, if necessary,\n",
    "    so that it only returns full batches.\n",
    "    '''\n",
    "    ## Shuffle x and y on the same index permutation\n",
    "    permute = np.random.permutation(range(len(x)))\n",
    "    x = x[permute]\n",
    "    y = y[permute]\n",
    "    \n",
    "    ## Truncate x and y so that no batch is empty\n",
    "    num_batches = len(x) // batch_size\n",
    "    x, y = x[:num_batches * batch_size], y[:num_batches * batch_size]\n",
    "    \n",
    "    # One-hot encode the labels:\n",
    "    y = np.eye(num_classes)[y]\n",
    "    \n",
    "    for i in range(0, len(x), batch_size):\n",
    "        yield x[i:i + batch_size], y[i:i + batch_size]"
   ]
  },
  {
   "cell_type": "code",
   "execution_count": 65,
   "metadata": {
    "collapsed": true
   },
   "outputs": [],
   "source": [
    "# To keep our summary directories separate\n",
    "from datetime import datetime"
   ]
  },
  {
   "cell_type": "code",
   "execution_count": 67,
   "metadata": {},
   "outputs": [
    {
     "name": "stdout",
     "output_type": "stream",
     "text": [
      "step 20, base training accuracy 0.6\n",
      "step 40, base training accuracy 0.95\n",
      "step 60, base training accuracy 0.65\n",
      "step 80, base training accuracy 0.95\n",
      "step 100, base training accuracy 0.9\n",
      "step 120, base training accuracy 0.95\n",
      "step 140, base training accuracy 0.85\n",
      "step 160, base training accuracy 1\n",
      "step 180, base training accuracy 0.95\n",
      "step 200, base training accuracy 1\n",
      "step 220, base training accuracy 1\n",
      "step 240, base training accuracy 0.95\n",
      "step 260, base training accuracy 1\n",
      "step 280, base training accuracy 1\n",
      "step 300, base training accuracy 1\n",
      "step 320, base training accuracy 1\n",
      "step 340, base training accuracy 1\n",
      "step 360, base training accuracy 0.95\n",
      "step 380, base training accuracy 0.95\n",
      "step 400, base training accuracy 1\n",
      "step 420, base training accuracy 0.9\n",
      "step 440, base training accuracy 1\n",
      "step 460, base training accuracy 0.95\n",
      "step 480, base training accuracy 0.95\n",
      "step 500, base training accuracy 1\n",
      "step 520, base training accuracy 0.95\n",
      "step 540, base training accuracy 0.95\n",
      "step 560, base training accuracy 0.9\n",
      "step 580, base training accuracy 1\n",
      "step 600, base training accuracy 0.95\n",
      "step 620, base training accuracy 1\n",
      "step 640, base training accuracy 0.95\n",
      "step 660, base training accuracy 1\n",
      "step 680, base training accuracy 0.9\n",
      "step 700, base training accuracy 1\n",
      "step 720, base training accuracy 1\n",
      "step 740, base training accuracy 1\n",
      "step 760, base training accuracy 1\n",
      "step 780, base training accuracy 1\n",
      "step 800, base training accuracy 1\n",
      "step 820, base training accuracy 0.9\n",
      "step 840, base training accuracy 1\n",
      "step 860, base training accuracy 0.95\n",
      "step 880, base training accuracy 1\n",
      "step 900, base training accuracy 1\n",
      "step 920, base training accuracy 1\n",
      "step 940, base training accuracy 1\n",
      "step 960, base training accuracy 0.95\n",
      "step 980, base training accuracy 1\n",
      "step 1000, base training accuracy 0.9\n",
      "step 1020, base training accuracy 1\n",
      "step 1040, base training accuracy 0.95\n",
      "step 1060, base training accuracy 0.9\n",
      "step 1080, base training accuracy 1\n",
      "step 1100, base training accuracy 1\n",
      "step 1120, base training accuracy 0.95\n",
      "step 1140, base training accuracy 0.85\n",
      "step 1160, base training accuracy 1\n",
      "step 1180, base training accuracy 1\n",
      "step 1200, base training accuracy 1\n",
      "step 1220, base training accuracy 0.95\n",
      "step 1240, base training accuracy 0.95\n",
      "step 1260, base training accuracy 0.9\n",
      "step 1280, base training accuracy 1\n",
      "step 1300, base training accuracy 0.85\n",
      "step 1320, base training accuracy 0.95\n",
      "step 1340, base training accuracy 0.95\n",
      "step 1360, base training accuracy 1\n",
      "step 1380, base training accuracy 1\n",
      "step 1400, base training accuracy 0.9\n",
      "base test accuracy 0.976455\n"
     ]
    }
   ],
   "source": [
    "batch_size = 20\n",
    "epochs = 1\n",
    "\n",
    "summaries_dir = \"./summaries/\" + datetime.now().strftime(\"%Y%m%d%H%M%S\")\n",
    "\n",
    "saver = tf.train.Saver()\n",
    "\n",
    "with tf.Session() as sess:\n",
    "    sess.run(tf.global_variables_initializer())\n",
    "    merged_variables = tf.summary.merge(variable_summaries_to_merge)\n",
    "    base_writer = tf.summary.FileWriter(summaries_dir + '/base', sess.graph)\n",
    "    \n",
    "    i = 1\n",
    "    for e in range(epochs):\n",
    "        for x_, y_ in get_batches(x_train_base, y_train_base, batch_size):\n",
    "            if i % 20 == 0:\n",
    "                train_accuracy, summary, acc_sum = sess.run([accuracy_base, merged_variables, accuracy_base_summary],\n",
    "                    feed_dict={X: x_,\n",
    "                               y_base: y_})\n",
    "                print('step %d, base training accuracy %g' % (i, train_accuracy))\n",
    "                base_writer.add_summary(summary, i)\n",
    "                base_writer.add_summary(acc_sum, i)\n",
    "            \n",
    "            train_step_base.run(\n",
    "                feed_dict={X: x_,\n",
    "                           y_base: y_})\n",
    "            i += 1\n",
    "\n",
    "    y_test_base_oh = np.eye(5)[y_test_base]\n",
    "    print('base test accuracy %g' % accuracy_base.eval(\n",
    "        feed_dict={\n",
    "            X: x_test_base,\n",
    "            y_base: y_test_base_oh}))\n",
    "    \n",
    "    saver.save(sess, \"checkpoints/base.ckpt\")\n"
   ]
  },
  {
   "cell_type": "code",
   "execution_count": 68,
   "metadata": {},
   "outputs": [
    {
     "data": {
      "text/plain": [
       "(26962, 784)"
      ]
     },
     "execution_count": 68,
     "metadata": {},
     "output_type": "execute_result"
    }
   ],
   "source": [
    "# Sanity check the base mdoel\n",
    "x_train_transfer.shape"
   ]
  },
  {
   "cell_type": "code",
   "execution_count": 69,
   "metadata": {},
   "outputs": [
    {
     "name": "stdout",
     "output_type": "stream",
     "text": [
      "INFO:tensorflow:Restoring parameters from checkpoints/base.ckpt\n",
      "transfer accuracy 0.243713\n"
     ]
    }
   ],
   "source": [
    "with tf.Session() as sess:\n",
    "    saver.restore(sess, tf.train.latest_checkpoint('checkpoints'))\n",
    "    y_train_transfer_oh = to_categorical(y_train_transfer-5, 5)\n",
    "    print('transfer accuracy %g' % accuracy_trans.eval(\n",
    "        feed_dict={\n",
    "            X: x_train_transfer,\n",
    "            y_trans: y_train_transfer_oh}))"
   ]
  },
  {
   "cell_type": "code",
   "execution_count": 70,
   "metadata": {},
   "outputs": [
    {
     "data": {
      "text/plain": [
       "array([7, 6, 8, ..., 5, 6, 8], dtype=uint8)"
      ]
     },
     "execution_count": 70,
     "metadata": {},
     "output_type": "execute_result"
    }
   ],
   "source": [
    "y_train_transfer.T"
   ]
  },
  {
   "cell_type": "code",
   "execution_count": 71,
   "metadata": {},
   "outputs": [],
   "source": [
    "#Well, that's about what we would expect for a totally untrained model.\n",
    "\n",
    "#Let's see if we can't improve that classification by only training the TensorFlow variables in the transfer scope.\n",
    "# Only use 100 per digit, in total, 500 data points\n",
    "def get500Data(digits, x , y):\n",
    "    \n",
    "    mask = np.zeros_like(y,dtype = bool)\n",
    "    \n",
    "    for digit in digits:\n",
    "        k = 0\n",
    "        for i in range(len(y)):\n",
    "            if y[i] == digit and k<100:\n",
    "                mask[i] += True\n",
    "                k += 1\n",
    "        \n",
    "    x = x[mask]\n",
    "    y = y[mask]\n",
    "    \n",
    "    return x,y\n"
   ]
  },
  {
   "cell_type": "code",
   "execution_count": 72,
   "metadata": {},
   "outputs": [
    {
     "data": {
      "text/plain": [
       "(50, 784)"
      ]
     },
     "execution_count": 72,
     "metadata": {},
     "output_type": "execute_result"
    }
   ],
   "source": [
    "x_train_transfer_500, y_train_transfer_500 = get500Data([5,6,7,8,9], x_train_transfer , y_train_transfer)\n",
    "x_test_transfer_50, y_test_transfer_50 = x_test_transfer[:50],y_test_transfer[:50]\n",
    "x_train_transfer_500.shape\n",
    "x_test_transfer_50.shape"
   ]
  },
  {
   "cell_type": "code",
   "execution_count": 84,
   "metadata": {},
   "outputs": [
    {
     "name": "stdout",
     "output_type": "stream",
     "text": [
      "INFO:tensorflow:Restoring parameters from checkpoints/trans_five.ckpt\n",
      "step 20, transfer training accuracy 0.9\n",
      "step 40, transfer training accuracy 0.9\n",
      "step 60, transfer training accuracy 0.55\n",
      "step 80, transfer training accuracy 0.7\n",
      "step 100, transfer training accuracy 0.7\n",
      "step 120, transfer training accuracy 0.7\n",
      "step 140, transfer training accuracy 0.8\n",
      "step 160, transfer training accuracy 0.65\n",
      "step 180, transfer training accuracy 0.5\n",
      "step 200, transfer training accuracy 0.7\n",
      "step 220, transfer training accuracy 0.8\n",
      "step 240, transfer training accuracy 1\n",
      "transfer test accuracy 0.74\n"
     ]
    }
   ],
   "source": [
    "## train the last layer of transfer learning\n",
    "batch_size = 20\n",
    "epochs = 10\n",
    "\n",
    "with tf.Session() as sess:\n",
    "    saver.restore(sess, tf.train.latest_checkpoint('checkpoints'))\n",
    "    \n",
    "    i = 1\n",
    "    trans_writer = tf.summary.FileWriter(summaries_dir + '/transfer', sess.graph)\n",
    "    \n",
    "    for e in range(epochs):\n",
    "        for x_, y_ in get_batches(x_train_transfer_500, y_train_transfer_500 - 5, batch_size, num_classes=5):\n",
    "            if i % 20 == 0:\n",
    "                train_accuracy, summary, acc_sum = sess.run([accuracy_trans, merged_variables, accuracy_trans_summary],\n",
    "                    feed_dict={X: x_,\n",
    "                               y_trans: y_})\n",
    "                print('step %d, transfer training accuracy %g' % (i, train_accuracy))\n",
    "                trans_writer.add_summary(summary, i)\n",
    "                trans_writer.add_summary(acc_sum, i)\n",
    "            \n",
    "            train_step_trans.run(\n",
    "                feed_dict={X: x_,\n",
    "                           y_trans: y_})\n",
    "            i += 1\n",
    "    y_test_transfer_oh =  to_categorical(y_test_transfer_50 - 5,5)\n",
    "    print('transfer test accuracy %g' % accuracy_trans.eval(\n",
    "        feed_dict={\n",
    "            X: x_test_transfer_50,\n",
    "            y_trans: y_test_transfer_oh}))\n",
    "    \n",
    "    saver.save(sess, \"checkpoints/trans_five.ckpt\")"
   ]
  },
  {
   "cell_type": "code",
   "execution_count": 83,
   "metadata": {},
   "outputs": [
    {
     "data": {
      "text/plain": [
       "array([[ 0.,  0.,  0., ...,  0.,  0.,  0.],\n",
       "       [ 0.,  0.,  0., ...,  0.,  0.,  0.],\n",
       "       [ 0.,  0.,  0., ...,  0.,  0.,  0.],\n",
       "       ..., \n",
       "       [ 0.,  0.,  0., ...,  0.,  0.,  0.],\n",
       "       [ 0.,  0.,  0., ...,  0.,  0.,  0.],\n",
       "       [ 0.,  0.,  0., ...,  0.,  0.,  0.]], dtype=float32)"
      ]
     },
     "execution_count": 83,
     "metadata": {},
     "output_type": "execute_result"
    }
   ],
   "source": [
    "x_train_transfer"
   ]
  },
  {
   "cell_type": "code",
   "execution_count": 85,
   "metadata": {},
   "outputs": [
    {
     "name": "stdout",
     "output_type": "stream",
     "text": [
      "INFO:tensorflow:Restoring parameters from checkpoints/trans_five.ckpt\n",
      "base accuracy on transfer digits 0.350957\n"
     ]
    }
   ],
   "source": [
    "# But now, let's check to see that the base model still doesn't know what the digits 5 to 9 are:\n",
    "with tf.Session() as sess:\n",
    "    saver.restore(sess, tf.train.latest_checkpoint('checkpoints'))\n",
    "    y_test_transfer_oh = to_categorical(y_test_transfer - 5,5)\n",
    "    print('base accuracy on transfer digits %g' % accuracy_base.eval(\n",
    "        feed_dict={\n",
    "            X: x_test_transfer,\n",
    "            y_base: y_test_transfer_oh}))"
   ]
  },
  {
   "cell_type": "code",
   "execution_count": null,
   "metadata": {
    "collapsed": true
   },
   "outputs": [],
   "source": []
  },
  {
   "cell_type": "code",
   "execution_count": 86,
   "metadata": {},
   "outputs": [
    {
     "name": "stdout",
     "output_type": "stream",
     "text": [
      "INFO:tensorflow:Restoring parameters from checkpoints/trans_five.ckpt\n",
      "base test accuracy 0.976455\n"
     ]
    }
   ],
   "source": [
    "# Additionally, the base model actually shouldn't have changed at all.\n",
    "\n",
    "# To confirm this, let's see that the test accuracy on the base digit set is still the same:\n",
    "\n",
    "with tf.Session() as sess:\n",
    "    saver.restore(sess, tf.train.latest_checkpoint('checkpoints'))\n",
    "    y_test_base_oh = to_categorical(y_test_base,5)\n",
    "    print('base test accuracy %g' % accuracy_base.eval(\n",
    "        feed_dict={\n",
    "            X: x_test_base,\n",
    "            y_base: y_test_base_oh}))"
   ]
  },
  {
   "cell_type": "code",
   "execution_count": 87,
   "metadata": {
    "collapsed": true
   },
   "outputs": [],
   "source": [
    "# import the inspect_checkpoint library\n",
    "from tensorflow.python.tools import inspect_checkpoint as chkp"
   ]
  },
  {
   "cell_type": "code",
   "execution_count": 99,
   "metadata": {},
   "outputs": [],
   "source": [
    "# print all tensors in checkpoint file\n",
    "# chkp.print_tensors_in_checkpoint_file('./checkpoints/base.ckpt', tensor_name='', all_tensors=True)\n"
   ]
  },
  {
   "cell_type": "code",
   "execution_count": 103,
   "metadata": {},
   "outputs": [
    {
     "name": "stdout",
     "output_type": "stream",
     "text": [
      "INFO:tensorflow:Restoring parameters from checkpoints/trans_four.ckpt\n",
      "step 20, transfer training accuracy 0.9\n",
      "step 40, transfer training accuracy 0.9\n",
      "step 60, transfer training accuracy 1\n",
      "step 80, transfer training accuracy 0.8\n",
      "step 100, transfer training accuracy 0.8\n",
      "step 120, transfer training accuracy 1\n",
      "step 140, transfer training accuracy 0.8\n",
      "step 160, transfer training accuracy 0.8\n",
      "step 180, transfer training accuracy 0.7\n",
      "step 200, transfer training accuracy 0.6\n",
      "step 220, transfer training accuracy 0.9\n",
      "step 240, transfer training accuracy 0.9\n",
      "step 260, transfer training accuracy 1\n",
      "step 280, transfer training accuracy 0.5\n",
      "step 300, transfer training accuracy 0.9\n",
      "step 320, transfer training accuracy 0.8\n",
      "step 340, transfer training accuracy 0.9\n",
      "step 360, transfer training accuracy 0.9\n",
      "step 380, transfer training accuracy 0.8\n",
      "step 400, transfer training accuracy 0.9\n",
      "step 420, transfer training accuracy 0.8\n",
      "step 440, transfer training accuracy 0.8\n",
      "step 460, transfer training accuracy 0.7\n",
      "step 480, transfer training accuracy 0.9\n",
      "step 500, transfer training accuracy 0.8\n",
      "step 520, transfer training accuracy 0.7\n",
      "step 540, transfer training accuracy 0.9\n",
      "step 560, transfer training accuracy 0.9\n",
      "step 580, transfer training accuracy 1\n",
      "step 600, transfer training accuracy 0.6\n",
      "step 620, transfer training accuracy 0.8\n",
      "step 640, transfer training accuracy 0.9\n",
      "step 660, transfer training accuracy 0.8\n",
      "step 680, transfer training accuracy 0.7\n",
      "step 700, transfer training accuracy 0.9\n",
      "step 720, transfer training accuracy 0.8\n",
      "step 740, transfer training accuracy 1\n",
      "step 760, transfer training accuracy 0.9\n",
      "step 780, transfer training accuracy 1\n",
      "step 800, transfer training accuracy 0.9\n",
      "step 820, transfer training accuracy 1\n",
      "step 840, transfer training accuracy 0.7\n",
      "step 860, transfer training accuracy 0.8\n",
      "step 880, transfer training accuracy 1\n",
      "step 900, transfer training accuracy 1\n",
      "step 920, transfer training accuracy 0.9\n",
      "step 940, transfer training accuracy 0.8\n",
      "step 960, transfer training accuracy 1\n",
      "step 980, transfer training accuracy 0.9\n",
      "step 1000, transfer training accuracy 1\n",
      "transfer test accuracy 0.78\n"
     ]
    }
   ],
   "source": [
    "# reuse four hidden layers instead of five\n",
    "## train the last layer of transfer learning\n",
    "batch_size = 10\n",
    "epochs = 20\n",
    "\n",
    "with tf.Session() as sess:\n",
    "    saver.restore(sess, tf.train.latest_checkpoint('checkpoints'))\n",
    "    \n",
    "    i = 1\n",
    "    trans4_writer = tf.summary.FileWriter(summaries_dir + '/transfer_4', sess.graph)\n",
    "    \n",
    "    for e in range(epochs):\n",
    "        for x_, y_ in get_batches(x_train_transfer_500, y_train_transfer_500 - 5, batch_size, num_classes=5):\n",
    "            if i % 20 == 0:\n",
    "                train_accuracy, summary, acc_sum = sess.run([accuracy_trans_4, merged_variables, accuracy_trans_summary_4],\n",
    "                    feed_dict={X: x_,\n",
    "                               y_trans_4: y_})\n",
    "                print('step %d, transfer training accuracy %g' % (i, train_accuracy))\n",
    "                trans_writer.add_summary(summary, i)\n",
    "                trans_writer.add_summary(acc_sum, i)\n",
    "            \n",
    "            train_step_trans_4.run(\n",
    "                feed_dict={X: x_,\n",
    "                           y_trans_4: y_})\n",
    "            i += 1\n",
    "    y_test_transfer_oh =  to_categorical(y_test_transfer_50 - 5,5)\n",
    "    print('transfer test accuracy %g' % accuracy_trans_4.eval(\n",
    "        feed_dict={\n",
    "            X: x_test_transfer_50,\n",
    "            y_trans_4: y_test_transfer_oh}))\n",
    "    \n",
    "    saver.save(sess, \"checkpoints/trans_four.ckpt\")\n",
    "\n"
   ]
  },
  {
   "cell_type": "code",
   "execution_count": 95,
   "metadata": {
    "collapsed": true
   },
   "outputs": [],
   "source": [
    "## unfreeze top two layers and retrain\n"
   ]
  },
  {
   "cell_type": "code",
   "execution_count": null,
   "metadata": {
    "collapsed": true
   },
   "outputs": [],
   "source": [
    "\n",
    "## train the last two layers and the last layer of transfer learning\n",
    "batch_size = 10\n",
    "epochs = 20\n",
    "\n",
    "with tf.Session() as sess:\n",
    "    saver.restore(sess, tf.train.latest_checkpoint('checkpoints'))\n",
    "    \n",
    "    i = 1\n",
    "    trans3_writer = tf.summary.FileWriter(summaries_dir + '/transfer_3', sess.graph)\n",
    "    \n",
    "    for e in range(epochs):\n",
    "        for x_, y_ in get_batches(x_train_transfer_500, y_train_transfer_500 - 5, batch_size, num_classes=5):\n",
    "            if i % 20 == 0:\n",
    "                train_accuracy, summary, acc_sum = sess.run([accuracy_trans_3, merged_variables, accuracy_trans_summary_3],\n",
    "                    feed_dict={X: x_,\n",
    "                               y_trans_3: y_})\n",
    "                print('step %d, transfer training accuracy %g' % (i, train_accuracy))\n",
    "                trans_writer.add_summary(summary, i)\n",
    "                trans_writer.add_summary(acc_sum, i)\n",
    "            \n",
    "            train_step_trans_3.run(\n",
    "                feed_dict={X: x_,\n",
    "                           y_trans_3: y_})\n",
    "            i += 1\n",
    "    y_test_transfer_oh =  to_categorical(y_test_transfer_50 - 5,5)\n",
    "    print('transfer test accuracy %g' % accuracy_trans_3.eval(\n",
    "        feed_dict={\n",
    "            X: x_test_transfer_50,\n",
    "            y_trans_3: y_test_transfer_oh}))\n",
    "    \n",
    "    saver.save(sess, \"checkpoints/trans_three.ckpt\")\n",
    "\n",
    "\n",
    "\n",
    "\n"
   ]
  },
  {
   "cell_type": "code",
   "execution_count": null,
   "metadata": {
    "collapsed": true
   },
   "outputs": [],
   "source": []
  }
 ],
 "metadata": {
  "kernelspec": {
   "display_name": "Python 2",
   "language": "python",
   "name": "python2"
  },
  "language_info": {
   "codemirror_mode": {
    "name": "ipython",
    "version": 2
   },
   "file_extension": ".py",
   "mimetype": "text/x-python",
   "name": "python",
   "nbconvert_exporter": "python",
   "pygments_lexer": "ipython2",
   "version": "2.7.14"
  }
 },
 "nbformat": 4,
 "nbformat_minor": 2
}
